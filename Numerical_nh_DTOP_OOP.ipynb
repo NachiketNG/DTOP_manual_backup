{
 "cells": [
  {
   "cell_type": "code",
   "execution_count": 1,
   "metadata": {},
   "outputs": [],
   "source": [
    "import numpy as np \n",
    "import matplotlib.pyplot as plt\n",
    "pi = np.pi\n",
    "import copy\n",
    "import scipy.linalg as scilinalg\n",
    "from tqdm.notebook import tqdm\n",
    "from scipy.integrate import quad\n",
    "from numba import jit\n",
    "import timeit\n",
    "I = 1j"
   ]
  },
  {
   "cell_type": "code",
   "execution_count": 2,
   "metadata": {},
   "outputs": [],
   "source": [
    "def round_matrix(mat): #function which rounds any matrix element with abs value <1e-12 to zero\n",
    "    mat_rounded = copy.deepcopy(mat)\n",
    "    for i in range(len(mat_rounded)):\n",
    "        for j in range(len(mat_rounded[i])):\n",
    "            if np.abs(np.real(mat_rounded[i,j]))  <1e-12:\n",
    "                mat_rounded[i,j] = complex(0 , np.imag(mat_rounded[i,j]))\n",
    "\n",
    "            if np.abs(np.imag(mat_rounded[i,j]))<1e-12:\n",
    "                mat_rounded[i,j] = complex(np.real(mat_rounded[i,j]) , 0)\n",
    "\n",
    "                \n",
    "    \n",
    "    return mat_rounded\n",
    "\n",
    "############################################################################################################################################\n",
    "\n",
    "def forward_difference(y , dx): #function for numerical differentiation using the forward difference formula\n",
    "    if len(y) == 1:\n",
    "        return 0\n",
    "    dydx = np.array(len(y)*[0.00])\n",
    "    for i in range(len(y)-1):\n",
    "        dydx[i] = (y[i+1] - y[i])/(dx)\n",
    "    \n",
    "    dydx[-1] = (y[-1] - y[-2])/(dx)\n",
    "    \n",
    "    return dydx\n",
    "        \n",
    "##########################################################################################################################################    \n",
    "\n",
    "def disc_pieces(x , y): #function to take a discontinuous piecewise function and return each of its pieces along with the size of each discontinuous jump \n",
    "    dy = np.array(len(y)*[0.00])\n",
    "    num_discs = 0 #number of jumps\n",
    "    size_jump = np.array([])  #size of the jump\n",
    "    index_jump = np.array([] , dtype = int) #index AFTER which jump occurs\n",
    "    \n",
    "    for i in range(len(y)-1):\n",
    "        dy[i] = (y[i+1] - y[i])\n",
    "        \n",
    "        if abs(dy[i]) >= np.pi:   #definining minimum size of a jump as pi\n",
    "            #print(\"jump spotted\")\n",
    "            num_discs = num_discs + 1\n",
    "            size_jump = np.append(size_jump , dy[i])\n",
    "            #print(size_jump)\n",
    "            index_jump = np.append(index_jump , i)\n",
    "        \n",
    "    \n",
    "            \n",
    "    #print(num_discs)\n",
    "    function_subsets = (num_discs + 1)*[0.00]  #each element of this list will have a piece of the piecewise input function\n",
    "    #print(len(function_subsets))\n",
    "    #print(index_jump)\n",
    "    \n",
    "    if num_discs == 0:\n",
    "        return y , 0\n",
    "    \n",
    "    starting_index = 0\n",
    "    \n",
    "    for i in range(len(function_subsets)-1):\n",
    "        function_subsets[i] = y[starting_index:index_jump[i]+1]\n",
    "        starting_index = index_jump[i]+1\n",
    "    function_subsets[-1] = y[starting_index:]\n",
    "\n",
    "    \n",
    "    return function_subsets , size_jump\n",
    "        \n",
    "############################################################################################################################################\n",
    "def nearest_multiple_of_pi(phase): #function to find the nearest multiple of pi\n",
    "    if phase>=0:\n",
    "        return (phase//pi)*pi\n",
    "    else:\n",
    "        return ((phase//pi)+1)*pi\n",
    "    \n",
    "############################################################################################################################################\n",
    "    \n",
    "def make_periodic(phase): #function to make the phase periodic\n",
    "    if nearest_multiple_of_pi(phase) >= 0:\n",
    "        if (nearest_multiple_of_pi(phase)/pi)%2 == 0:\n",
    "            return (phase - nearest_multiple_of_pi(phase))\n",
    "        else:\n",
    "            return -(pi - (phase - nearest_multiple_of_pi(phase)))\n",
    "    else:\n",
    "        if (nearest_multiple_of_pi(phase)/pi)%2 == 0:\n",
    "            return (phase - nearest_multiple_of_pi(phase))\n",
    "        else:\n",
    "            return (pi + (phase - nearest_multiple_of_pi(phase)))\n",
    "        \n"
   ]
  },
  {
   "cell_type": "code",
   "execution_count": 8,
   "metadata": {},
   "outputs": [],
   "source": [
    "class DPT:\n",
    "    def __init__(self , vi , wi , vf , wf , gamma):\n",
    "        self.vi = vi\n",
    "        self.wi = wi\n",
    "        self.vf = vf \n",
    "        self.wf = wf\n",
    "        self.gamma = gamma\n",
    "        self.initial_params = (self.vi , self.wi , 0)\n",
    "        self.final_params = (self.vf , self.wf , self.gamma)\n",
    "        # self.k = k\n",
    "        # self.t = t\n",
    "\n",
    "    def set_params_with_deltas(self , delta_i , delta_f):\n",
    "        self.vi = 1 - delta_i\n",
    "        self.wi = 1 + delta_i\n",
    "\n",
    "        self.vf = 1 - delta_f\n",
    "        self.wf = 1 + delta_f\n",
    "\n",
    "    def Hi(self , k): #function to generate the 2x2 SSH Hamiltonian H(k) with given v,w,gamma for a given value of k\n",
    "     \n",
    "        mat = np.zeros((2,2) , dtype = complex)\n",
    "        mat[0,1] = self.vi + self.wi*np.exp(I*k)\n",
    "        mat[1,0] = self.vi + self.wi*np.exp(-I*k)\n",
    "\n",
    "        return mat\n",
    "    \n",
    "    def Hf(self , k): #function to generate the 2x2 SSH Hamiltonian H(k) with given v,w,gamma for a given value of k\n",
    "     \n",
    "        mat = np.zeros((2,2) , dtype = complex)\n",
    "        mat[0,1] = self.vf + self.wf*np.exp(I*k)\n",
    "        mat[1,0] = self.vf + self.wf*np.exp(self.gamma - I*k)\n",
    "\n",
    "        return mat\n",
    "    \n",
    "\n",
    "    \n",
    "    def biorth_VU(self , k , dagger = False):\n",
    "\n",
    "        if dagger:\n",
    "            eigs , vl , vr = scilinalg.eig(  np.matrix.getH(self.Hf(k)) , left = True , right = True  ) #get the eigenvalues and left & right eigenvectors\n",
    "\n",
    "        else:\n",
    "            eigs , vl , vr = scilinalg.eig(  self.Hf(k) , left = True , right = True  ) #get the eigenvalues and left & right eigenvectors\n",
    "\n",
    "\n",
    "\n",
    "        left_evec_plus = vl[:,0] #important note: scipy returns the left evecs as bra vectors! I deal with that below\n",
    "        left_evec_minus = vl[:,1]\n",
    "        right_evec_plus = vr[:,0]\n",
    "        right_evec_minus = vr[:,1]\n",
    "\n",
    "        #I'm using the biorthogonal normalization condition described in the Brody paper.\n",
    "        #Needed to conjugate the normalization factor here for the left-evecs because right now they are bras but in all\n",
    "        #inner products they will be kets and therefore will be conjugated once again\n",
    "        left_evec_plus_normed = np.conjugate(1/np.sqrt(np.vdot(left_evec_plus , right_evec_plus))) * left_evec_plus \n",
    "        left_evec_minus_normed = np.conjugate(1/np.sqrt(np.vdot(left_evec_minus ,right_evec_minus))) * left_evec_minus\n",
    "        \n",
    "        right_evec_plus_normed = (1/np.sqrt(np.vdot(left_evec_plus , right_evec_plus))) * right_evec_plus\n",
    "        right_evec_minus_normed = (1/np.sqrt(np.vdot(left_evec_minus , right_evec_minus))) * right_evec_minus\n",
    "\n",
    "        \n",
    "        #Now to define the basis transformation matrices U and V. These are matricies whose product is unity and they also diagonalize \n",
    "        #the hamiltonian.\n",
    "        #U = has the two right eigenkets of the hamiltonian as its columns\n",
    "        #V = has the two left eigenbras of the hamiltonian as its rows\n",
    "        columnV = np.zeros((2,2) , dtype = complex)\n",
    "        newU = np.zeros((2,2) , dtype = complex)\n",
    "\n",
    "        \n",
    "        #remember, left_evec_plus_normed is still a ket vector, so i'll define the matrix comumnV whose columns \n",
    "        #are these ket vectors and then take its hermitian conjugate.\n",
    "        columnV[:,0] = left_evec_plus_normed \n",
    "        columnV[:,1] = left_evec_minus_normed\n",
    "\n",
    "        #taking hermitian conjugate of the columnV matrix now gets us the V matrix. \n",
    "        #newV is a matrix with the left eigenbras of the hamiltonian as its rows\n",
    "        newV = np.matrix.getH(columnV) \n",
    "\n",
    "        newU[:,0] = right_evec_plus_normed #newU is a matrix with the right eigenkets of the hamiltonian as its columns\n",
    "        newU[:,1] = right_evec_minus_normed\n",
    "\n",
    "        return (eigs , newV , newU)\n",
    "\n",
    "\n",
    "    def Gk(self , t , k ): #function to give the Gk value (term inside the  product in the Loschmidt Echo expression)\n",
    "        \n",
    "        kappa_i_pm , right_vecs_initial_mat = scilinalg.eig(  self.Hi(k) , left = False , right = True  ) #get eigenvectors of initial Hamiltonian\n",
    "\n",
    "        right_eigenket_initial_minus = right_vecs_initial_mat[:,np.where(kappa_i_pm < 0)[0]] #the eigenvector corresponding to the negative eigenvalue\n",
    "  \n",
    "        left_eigenbra_initial_minus = np.transpose(np.conjugate(right_eigenket_initial_minus)) #the corresponding ket vector\n",
    "  \n",
    "        \n",
    "        kappa_f_pm , Vf , Uf = self.biorth_VU(k)\n",
    "        Hf = self.Hf(k)\n",
    "\n",
    "\n",
    "        #left_eigenbra_initial_plus_in_Hf_eigenbasis = left_eigenbra_initial_plus@Uf\n",
    "        left_eigenbra_initial_minus_in_Hf_eigenbasis = left_eigenbra_initial_minus@Uf\n",
    "\n",
    "        #right_eigenket_initial_plus_in_Hf_eigenbasis = Vf@right_eigenket_initial_plus\n",
    "        right_eigenket_initial_minus_in_Hf_eigenbasis = Vf@right_eigenket_initial_minus\n",
    "\n",
    "        exp_Hf = np.zeros((2,2) , dtype = complex)\n",
    "        exp_Hf[0,0] = np.exp(-I*t*kappa_f_pm[0])\n",
    "        exp_Hf[1,1] = np.exp(-I*t*kappa_f_pm[1])\n",
    "\n",
    "        HfDagger = np.matrix.getH(Hf)\n",
    "        HfDagger_in_Hf_eigenbasis = Vf @ HfDagger @ Uf\n",
    "        exp_HfDagger_in_Hf_eigenbasis = scilinalg.expm(I*t*HfDagger_in_Hf_eigenbasis)\n",
    "\n",
    "        norm_term = np.sqrt( left_eigenbra_initial_minus_in_Hf_eigenbasis @ exp_HfDagger_in_Hf_eigenbasis @ exp_Hf @ right_eigenket_initial_minus_in_Hf_eigenbasis )\n",
    "\n",
    "\n",
    "        #Gkk_right = exp_Hf @ right_eigenket_initial_minus_in_Hf_eigenbasis\n",
    "\n",
    "        Gkk = (left_eigenbra_initial_minus_in_Hf_eigenbasis @ exp_Hf @ right_eigenket_initial_minus_in_Hf_eigenbasis)/norm_term\n",
    "\n",
    "        return Gkk\n",
    "    \n",
    "    def return_rate(self , t_array , k_array):\n",
    "        def return_rate_integrand_for_quad(k , t):\n",
    "            return (-1/(2*pi))*np.log( np.abs(self.Gk(t , k)) )\n",
    "        \n",
    "        limit_rate_using_quad = np.zeros(len(t_array))\n",
    "\n",
    "        for i in tqdm(range(len(t_array))):\n",
    "            limit_rate_using_quad[i] = quad(return_rate_integrand_for_quad , -pi , pi , args = (t_array[i]))[0]\n",
    "\n",
    "        self.limit_rate = limit_rate_using_quad\n",
    "        \n",
    "        return limit_rate_using_quad\n",
    "\n",
    "    \n",
    "    def get_Gk_array(self , t_array , k_array):\n",
    "\n",
    "        Gk_array = np.zeros((len(t_array) , len(k_array)) , dtype = complex)\n",
    "\n",
    "        for i in tqdm(range(len(t_array))):\n",
    "            for j in range(len(k_array)):\n",
    "                Gk_array[i,j] = self.Gk(t_array[i] , k_array[j])\n",
    "\n",
    "        self.Gk_array = Gk_array\n",
    "\n",
    "        return Gk_array\n",
    "    \n",
    "    def return_rate_using_Gk_array(self, t_array , k_array):\n",
    "        limit_rate_using_trapz = -(1/(2*pi))*np.trapz(np.log(np.abs(self.Gk_array)) , k_array , axis=1)\n",
    "        return limit_rate_using_trapz\n",
    "    \n",
    "\n",
    "    def phi_dyn(self , t , k):\n",
    "        \n",
    "        def dphi_dyn(t , k):\n",
    "\n",
    "            kappa_i_pm , right_vecs_initial_mat = scilinalg.eig(  self.Hi(k) , left = False , right = True  ) #get eigenvectors of initial Hamiltonian\n",
    "\n",
    "            right_eigenket_initial_minus = right_vecs_initial_mat[:,np.where(kappa_i_pm < 0)[0]] #the eigenvector corresponding to the negative eigenvalue\n",
    "    \n",
    "            left_eigenbra_initial_minus = np.transpose(np.conjugate(right_eigenket_initial_minus)) #the corresponding ket vector\n",
    "            \n",
    "            kappa_f_pm , Vf , Uf = self.biorth_VU(k)\n",
    "            Hf = self.Hf(k)\n",
    "\n",
    "            #kappa_f_pm_Hdagger , Uf_Hdagger , Vf_Hdagger = self.biorth_VU(k , dagger = True)\n",
    "\n",
    "\n",
    "            #left_eigenbra_initial_plus_in_Hf_eigenbasis = left_eigenbra_initial_plus@Uf\n",
    "            left_eigenbra_initial_minus_in_Hf_eigenbasis = left_eigenbra_initial_minus@Uf\n",
    "\n",
    "            #right_eigenket_initial_plus_in_Hf_eigenbasis = Vf@right_eigenket_initial_plus\n",
    "            right_eigenket_initial_minus_in_Hf_eigenbasis = Vf@right_eigenket_initial_minus\n",
    "\n",
    "\n",
    "            Hf_diagonal = np.zeros((2,2) , dtype = complex)\n",
    "            Hf_diagonal[0,0] = kappa_f_pm[0]\n",
    "            Hf_diagonal[1,1] = kappa_f_pm[1]\n",
    "\n",
    "            exp_Hf_diagonal = np.zeros((2,2) , dtype = complex)\n",
    "            exp_Hf_diagonal[0,0] = np.exp(-I*t*kappa_f_pm[0])\n",
    "            exp_Hf_diagonal[1,1] = np.exp(-I*t*kappa_f_pm[1])\n",
    "\n",
    "            HfDagger = np.matrix.getH(Hf)\n",
    "            HfDagger_in_Hf_eigenbasis = Vf @ HfDagger @ Uf\n",
    "            exp_HfDagger_in_Hf_eigenbasis = scilinalg.expm(I*t*HfDagger_in_Hf_eigenbasis)\n",
    "\n",
    "            norm_term = np.sqrt( left_eigenbra_initial_minus_in_Hf_eigenbasis @ exp_HfDagger_in_Hf_eigenbasis @ exp_Hf_diagonal @ right_eigenket_initial_minus_in_Hf_eigenbasis )\n",
    "\n",
    "            right_term = ( exp_Hf_diagonal @ right_eigenket_initial_minus_in_Hf_eigenbasis ) / norm_term\n",
    "\n",
    "            left_term = ( left_eigenbra_initial_minus_in_Hf_eigenbasis @ exp_HfDagger_in_Hf_eigenbasis )/ norm_term\n",
    "\n",
    "            dphi_dyn = -np.real(left_term @ Hf_diagonal @ right_term)\n",
    "\n",
    "            return dphi_dyn\n",
    "        \n",
    "        phi_dyn = quad(dphi_dyn , 0 , t , args = (k))\n",
    "\n",
    "        return phi_dyn\n",
    "\n",
    "        # norm_term_right_in_Hf_eigenbasis = exp_Hf @ right_eigenket_initial_minus_in_Hf_eigenbasis\n",
    "        # norm_term_left_in_HfDagger_eigenbasis = left_eigenbra_initial_minus_in_Hfdagger_eigenbasis @ exp_HfDagger\n",
    "\n",
    "        return dphi_dyn\n",
    "    \n",
    "    def PGP(self , t , k):\n",
    "        phi_LE = -I*np.log( self.Gk(t , k) / np.abs(self.Gk(t , k)) )\n",
    "        phi_dyn = self.phi_dyn(t , k)\n",
    "\n",
    "        if np.imag(phi_LE) > 1e-10 or np.imag(phi_dyn) > 1e-10:\n",
    "            raise Exception(\"Phases must be real, but here they are complex!\")\n",
    "        \n",
    "        else:\n",
    "\n",
    "            PGP = make_periodic(  make_periodic(np.real(phi_LE)) - make_periodic(np.real(phi_dyn))  )\n",
    "\n",
    "        return PGP\n",
    "    \n",
    "    def get_PGP_array(self , t_array , k_array):\n",
    "\n",
    "        PGP_array = np.zeros((len(t_array) , len(k_array)))\n",
    "        \n",
    "        for i in tqdm(range(len(t_array))):\n",
    "            for j in range(len(k_array)):\n",
    "                PGP_array[i,j] = self.PGP(t_array[i] , k_array[j])\n",
    "        \n",
    "        self.PGP_array = PGP_array\n",
    "        \n",
    "        return PGP_array\n",
    "    \n",
    "\n",
    "\n"
   ]
  },
  {
   "cell_type": "code",
   "execution_count": 6,
   "metadata": {},
   "outputs": [],
   "source": [
    "t_array = np.linspace(0,30,500)\n",
    "k_array = np.linspace(-pi , pi , 501)"
   ]
  },
  {
   "cell_type": "code",
   "execution_count": 4,
   "metadata": {},
   "outputs": [],
   "source": [
    "T_to_NT = DPT(0,0,0,0,0.4)\n",
    "T_to_NT.set_params_with_deltas(-0.9 , 0.9)"
   ]
  },
  {
   "cell_type": "code",
   "execution_count": null,
   "metadata": {},
   "outputs": [],
   "source": []
  },
  {
   "cell_type": "code",
   "execution_count": null,
   "metadata": {},
   "outputs": [],
   "source": []
  },
  {
   "cell_type": "code",
   "execution_count": 6,
   "metadata": {},
   "outputs": [
    {
     "data": {
      "text/plain": [
       "(1.9, 0.09999999999999998)"
      ]
     },
     "execution_count": 6,
     "metadata": {},
     "output_type": "execute_result"
    }
   ],
   "source": [
    "T_to_NT.vi , T_to_NT.wi"
   ]
  },
  {
   "cell_type": "code",
   "execution_count": 7,
   "metadata": {},
   "outputs": [
    {
     "data": {
      "text/plain": [
       "array([[-0.64847948+0.44032533j]])"
      ]
     },
     "execution_count": 7,
     "metadata": {},
     "output_type": "execute_result"
    }
   ],
   "source": [
    "T_to_NT.Gk(1 , pi/3)"
   ]
  },
  {
   "cell_type": "code",
   "execution_count": 8,
   "metadata": {},
   "outputs": [
    {
     "data": {
      "application/vnd.jupyter.widget-view+json": {
       "model_id": "84d91793a66a49cfbf1ab6f2c0f43b52",
       "version_major": 2,
       "version_minor": 0
      },
      "text/plain": [
       "  0%|          | 0/500 [00:00<?, ?it/s]"
      ]
     },
     "metadata": {},
     "output_type": "display_data"
    }
   ],
   "source": [
    "t_array = np.linspace(0,30,500)\n",
    "k_array = np.linspace(-pi , pi , 501)\n",
    "\n",
    "rate = T_to_NT.return_rate(t_array , k_array)"
   ]
  },
  {
   "cell_type": "code",
   "execution_count": 9,
   "metadata": {},
   "outputs": [
    {
     "data": {
      "text/plain": [
       "(0.0, 8.0)"
      ]
     },
     "execution_count": 9,
     "metadata": {},
     "output_type": "execute_result"
    },
    {
     "data": {
      "image/png": "[encoded data removed]",
      "text/plain": [
       "<Figure size 640x480 with 1 Axes>"
      ]
     },
     "metadata": {},
     "output_type": "display_data"
    }
   ],
   "source": [
    "plt.plot(t_array , rate)\n",
    "plt.xlim(0,8)\n"
   ]
  },
  {
   "cell_type": "code",
   "execution_count": 10,
   "metadata": {},
   "outputs": [
    {
     "data": {
      "application/vnd.jupyter.widget-view+json": {
       "model_id": "aabe3725815a4688a083f602570ccce5",
       "version_major": 2,
       "version_minor": 0
      },
      "text/plain": [
       "  0%|          | 0/500 [00:00<?, ?it/s]"
      ]
     },
     "metadata": {},
     "output_type": "display_data"
    },
    {
     "data": {
      "text/plain": [
       "array([[ 1.        -6.16297582e-33j,  1.        -1.62630326e-19j,\n",
       "         1.        -1.35525272e-18j, ...,  1.        +2.16840434e-18j,\n",
       "         1.        -1.59919820e-18j,  1.        +6.16297582e-33j],\n",
       "       [ 0.99034145-1.35796346e-01j,  0.99033403-1.35835903e-01j,\n",
       "         0.9903266 -1.35850532e-01j, ...,  0.99035628-1.35642591e-01j,\n",
       "         0.99034887-1.35731895e-01j,  0.99034145-1.35796346e-01j],\n",
       "       [ 0.96167024-2.68564989e-01j,  0.96161276-2.68738043e-01j,\n",
       "         0.96155515-2.68861991e-01j, ...,  0.96178479-2.68072110e-01j,\n",
       "         0.96172759-2.68342963e-01j,  0.96167024-2.68564989e-01j],\n",
       "       ...,\n",
       "       [-0.94617015+3.17008076e-01j, -0.94604891+3.17422398e-01j,\n",
       "        -0.94574338+3.18298825e-01j, ..., -0.9458625 +3.17550544e-01j,\n",
       "        -0.94610802+3.17052368e-01j, -0.94617015+3.17008076e-01j],\n",
       "       [-0.89289725+4.40993501e-01j, -0.89263691+4.41595213e-01j,\n",
       "        -0.8921258 +4.42598125e-01j, ..., -0.89267222+4.40971691e-01j,\n",
       "        -0.89290865+4.40787832e-01j, -0.89289725+4.40993501e-01j],\n",
       "       [-0.82348522+5.55661132e-01j, -0.82299715+5.56477318e-01j,\n",
       "        -0.82220092+5.57625529e-01j, ..., -0.82354801+5.54998578e-01j,\n",
       "        -0.82366805+5.55170759e-01j, -0.82348522+5.55661132e-01j]])"
      ]
     },
     "execution_count": 10,
     "metadata": {},
     "output_type": "execute_result"
    }
   ],
   "source": [
    "T_to_NT.get_Gk_array(t_array , k_array)"
   ]
  },
  {
   "cell_type": "code",
   "execution_count": 11,
   "metadata": {},
   "outputs": [],
   "source": [
    "rt = T_to_NT.return_rate_using_Gk_array(t_array , k_array)"
   ]
  },
  {
   "cell_type": "code",
   "execution_count": 12,
   "metadata": {},
   "outputs": [
    {
     "data": {
      "text/plain": [
       "(0.0, 8.0)"
      ]
     },
     "execution_count": 12,
     "metadata": {},
     "output_type": "execute_result"
    },
    {
     "data": {
      "image/png": "[encoded data removed]",
      "text/plain": [
       "<Figure size 640x480 with 1 Axes>"
      ]
     },
     "metadata": {},
     "output_type": "display_data"
    }
   ],
   "source": [
    "plt.plot(t_array , rt)\n",
    "plt.xlim(0,8)"
   ]
  },
  {
   "cell_type": "code",
   "execution_count": 7,
   "metadata": {},
   "outputs": [
    {
     "data": {
      "application/vnd.jupyter.widget-view+json": {
       "model_id": "45f21f6451b74c9bb64d43c6e3f7e1f1",
       "version_major": 2,
       "version_minor": 0
      },
      "text/plain": [
       "  0%|          | 0/500 [00:00<?, ?it/s]"
      ]
     },
     "metadata": {},
     "output_type": "display_data"
    },
    {
     "ename": "KeyboardInterrupt",
     "evalue": "",
     "output_type": "error",
     "traceback": [
      "\u001b[1;31m---------------------------------------------------------------------------\u001b[0m",
      "\u001b[1;31mKeyboardInterrupt\u001b[0m                         Traceback (most recent call last)",
      "Cell \u001b[1;32mIn[7], line 1\u001b[0m\n\u001b[1;32m----> 1\u001b[0m T_to_NT\u001b[38;5;241m.\u001b[39mget_PGP_array(t_array , k_array)\n",
      "Cell \u001b[1;32mIn[3], line 218\u001b[0m, in \u001b[0;36mDPT.get_PGP_array\u001b[1;34m(self, t_array, k_array)\u001b[0m\n\u001b[0;32m    216\u001b[0m \u001b[38;5;28;01mfor\u001b[39;00m i \u001b[38;5;129;01min\u001b[39;00m tqdm(\u001b[38;5;28mrange\u001b[39m(\u001b[38;5;28mlen\u001b[39m(t_array))):\n\u001b[0;32m    217\u001b[0m     \u001b[38;5;28;01mfor\u001b[39;00m j \u001b[38;5;129;01min\u001b[39;00m \u001b[38;5;28mrange\u001b[39m(\u001b[38;5;28mlen\u001b[39m(k_array)):\n\u001b[1;32m--> 218\u001b[0m         PGP_array[i,j] \u001b[38;5;241m=\u001b[39m \u001b[38;5;28mself\u001b[39m\u001b[38;5;241m.\u001b[39mPGP(t_array[i] , k_array[j])\n\u001b[0;32m    220\u001b[0m \u001b[38;5;28mself\u001b[39m\u001b[38;5;241m.\u001b[39mPGP_array \u001b[38;5;241m=\u001b[39m PGP_array\n\u001b[0;32m    222\u001b[0m \u001b[38;5;28;01mreturn\u001b[39;00m PGP_array\n",
      "Cell \u001b[1;32mIn[3], line 200\u001b[0m, in \u001b[0;36mDPT.PGP\u001b[1;34m(self, t, k)\u001b[0m\n\u001b[0;32m    199\u001b[0m \u001b[38;5;28;01mdef\u001b[39;00m \u001b[38;5;21mPGP\u001b[39m(\u001b[38;5;28mself\u001b[39m , t , k):\n\u001b[1;32m--> 200\u001b[0m     phi_LE \u001b[38;5;241m=\u001b[39m \u001b[38;5;241m-\u001b[39mI\u001b[38;5;241m*\u001b[39mnp\u001b[38;5;241m.\u001b[39mlog( \u001b[38;5;28mself\u001b[39m\u001b[38;5;241m.\u001b[39mGk(t , k) \u001b[38;5;241m/\u001b[39m np\u001b[38;5;241m.\u001b[39mabs(\u001b[38;5;28mself\u001b[39m\u001b[38;5;241m.\u001b[39mGk(t , k)) )\n\u001b[0;32m    201\u001b[0m     phi_dyn \u001b[38;5;241m=\u001b[39m \u001b[38;5;28mself\u001b[39m\u001b[38;5;241m.\u001b[39mphi_dyn(t , k)\n\u001b[0;32m    203\u001b[0m     \u001b[38;5;28;01mif\u001b[39;00m np\u001b[38;5;241m.\u001b[39mimag(phi_LE) \u001b[38;5;241m>\u001b[39m \u001b[38;5;241m1e-10\u001b[39m \u001b[38;5;129;01mor\u001b[39;00m np\u001b[38;5;241m.\u001b[39mimag(phi_dyn) \u001b[38;5;241m>\u001b[39m \u001b[38;5;241m1e-10\u001b[39m:\n",
      "Cell \u001b[1;32mIn[3], line 111\u001b[0m, in \u001b[0;36mDPT.Gk\u001b[1;34m(self, t, k)\u001b[0m\n\u001b[0;32m    109\u001b[0m HfDagger \u001b[38;5;241m=\u001b[39m np\u001b[38;5;241m.\u001b[39mmatrix\u001b[38;5;241m.\u001b[39mgetH(Hf)\n\u001b[0;32m    110\u001b[0m HfDagger_in_Hf_eigenbasis \u001b[38;5;241m=\u001b[39m Vf \u001b[38;5;241m@\u001b[39m HfDagger \u001b[38;5;241m@\u001b[39m Uf\n\u001b[1;32m--> 111\u001b[0m exp_HfDagger_in_Hf_eigenbasis \u001b[38;5;241m=\u001b[39m scilinalg\u001b[38;5;241m.\u001b[39mexpm(I\u001b[38;5;241m*\u001b[39mt\u001b[38;5;241m*\u001b[39mHfDagger_in_Hf_eigenbasis)\n\u001b[0;32m    113\u001b[0m norm_term \u001b[38;5;241m=\u001b[39m np\u001b[38;5;241m.\u001b[39msqrt( left_eigenbra_initial_minus_in_Hf_eigenbasis \u001b[38;5;241m@\u001b[39m exp_HfDagger_in_Hf_eigenbasis \u001b[38;5;241m@\u001b[39m exp_Hf \u001b[38;5;241m@\u001b[39m right_eigenket_initial_minus_in_Hf_eigenbasis )\n\u001b[0;32m    116\u001b[0m \u001b[38;5;66;03m#Gkk_right = exp_Hf @ right_eigenket_initial_minus_in_Hf_eigenbasis\u001b[39;00m\n",
      "File \u001b[1;32mc:\\Users\\Lenovo\\anaconda3\\Lib\\site-packages\\scipy\\linalg\\_matfuncs.py:307\u001b[0m, in \u001b[0;36mexpm\u001b[1;34m(A)\u001b[0m\n\u001b[0;32m    303\u001b[0m \u001b[38;5;66;03m# Explicit formula for 2x2 case, formula (2.2) in [1]\u001b[39;00m\n\u001b[0;32m    304\u001b[0m \u001b[38;5;66;03m# without Kahan's method numerical instabilities can occur.\u001b[39;00m\n\u001b[0;32m    305\u001b[0m \u001b[38;5;28;01mif\u001b[39;00m a\u001b[38;5;241m.\u001b[39mshape[\u001b[38;5;241m-\u001b[39m\u001b[38;5;241m2\u001b[39m:] \u001b[38;5;241m==\u001b[39m (\u001b[38;5;241m2\u001b[39m, \u001b[38;5;241m2\u001b[39m):\n\u001b[0;32m    306\u001b[0m     a1, a2, a3, a4 \u001b[38;5;241m=\u001b[39m (a[\u001b[38;5;241m.\u001b[39m\u001b[38;5;241m.\u001b[39m\u001b[38;5;241m.\u001b[39m, [\u001b[38;5;241m0\u001b[39m], [\u001b[38;5;241m0\u001b[39m]],\n\u001b[1;32m--> 307\u001b[0m                       a[\u001b[38;5;241m.\u001b[39m\u001b[38;5;241m.\u001b[39m\u001b[38;5;241m.\u001b[39m, [\u001b[38;5;241m0\u001b[39m], [\u001b[38;5;241m1\u001b[39m]],\n\u001b[0;32m    308\u001b[0m                       a[\u001b[38;5;241m.\u001b[39m\u001b[38;5;241m.\u001b[39m\u001b[38;5;241m.\u001b[39m, [\u001b[38;5;241m1\u001b[39m], [\u001b[38;5;241m0\u001b[39m]],\n\u001b[0;32m    309\u001b[0m                       a[\u001b[38;5;241m.\u001b[39m\u001b[38;5;241m.\u001b[39m\u001b[38;5;241m.\u001b[39m, [\u001b[38;5;241m1\u001b[39m], [\u001b[38;5;241m1\u001b[39m]])\n\u001b[0;32m    310\u001b[0m     mu \u001b[38;5;241m=\u001b[39m csqrt((a1\u001b[38;5;241m-\u001b[39ma4)\u001b[38;5;241m*\u001b[39m\u001b[38;5;241m*\u001b[39m\u001b[38;5;241m2\u001b[39m \u001b[38;5;241m+\u001b[39m \u001b[38;5;241m4\u001b[39m\u001b[38;5;241m*\u001b[39ma2\u001b[38;5;241m*\u001b[39ma3)\u001b[38;5;241m/\u001b[39m\u001b[38;5;241m2.\u001b[39m  \u001b[38;5;66;03m# csqrt slow but handles neg.vals\u001b[39;00m\n\u001b[0;32m    312\u001b[0m     eApD2 \u001b[38;5;241m=\u001b[39m np\u001b[38;5;241m.\u001b[39mexp((a1\u001b[38;5;241m+\u001b[39ma4)\u001b[38;5;241m/\u001b[39m\u001b[38;5;241m2.\u001b[39m)\n",
      "\u001b[1;31mKeyboardInterrupt\u001b[0m: "
     ]
    }
   ],
   "source": [
    "T_to_NT.get_PGP_array(t_array , k_array)"
   ]
  },
  {
   "cell_type": "code",
   "execution_count": null,
   "metadata": {},
   "outputs": [],
   "source": []
  }
 ],
 "metadata": {
  "kernelspec": {
   "display_name": "base",
   "language": "python",
   "name": "python3"
  },
  "language_info": {
   "codemirror_mode": {
    "name": "ipython",
    "version": 3
   },
   "file_extension": ".py",
   "mimetype": "text/x-python",
   "name": "python",
   "nbconvert_exporter": "python",
   "pygments_lexer": "ipython3",
   "version": "3.11.5"
  }
 },
 "nbformat": 4,
 "nbformat_minor": 2
}
